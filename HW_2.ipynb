{
  "nbformat": 4,
  "nbformat_minor": 0,
  "metadata": {
    "colab": {
      "name": "HW 2.ipynb",
      "version": "0.3.2",
      "provenance": [],
      "collapsed_sections": [],
      "include_colab_link": true
    },
    "kernelspec": {
      "name": "python3",
      "display_name": "Python 3"
    },
    "accelerator": "GPU"
  },
  "cells": [
    {
      "cell_type": "markdown",
      "metadata": {
        "id": "view-in-github",
        "colab_type": "text"
      },
      "source": [
        "<a href=\"https://colab.research.google.com/github/deepak-ucfknight/COT5405/blob/master/HW_2.ipynb\" target=\"_parent\"><img src=\"https://colab.research.google.com/assets/colab-badge.svg\" alt=\"Open In Colab\"/></a>"
      ]
    },
    {
      "metadata": {
        "id": "tnQdZyCfZZSj",
        "colab_type": "text"
      },
      "cell_type": "markdown",
      "source": [
        "## **Classification of CIFAR10 with categorical crossentropy loss - Keras implementation**"
      ]
    },
    {
      "metadata": {
        "id": "I3Ep6eq7Z_4S",
        "colab_type": "code",
        "colab": {
          "base_uri": "https://localhost:8080/",
          "height": 34
        },
        "outputId": "e61b8e98-8035-4b04-853f-c6d467e9fcae"
      },
      "cell_type": "code",
      "source": [
        "# import headers\n",
        "import keras\n",
        "from keras.datasets import cifar10\n",
        "from keras import backend as K\n",
        "import numpy as np\n",
        "from keras.models import Sequential\n",
        "from keras.layers import Dense, Dropout, Flatten, GlobalAveragePooling2D, BatchNormalization, Activation\n",
        "from keras.optimizers import Adam\n",
        "from keras.layers.convolutional import Conv2D\n",
        "from keras.layers.pooling import MaxPooling2D\n",
        "from keras.callbacks import EarlyStopping, ReduceLROnPlateau\n",
        "from sklearn.model_selection import train_test_split\n",
        "import matplotlib.pyplot as plt\n",
        "from sklearn.metrics import confusion_matrix\n",
        "from sklearn.utils import shuffle\n",
        "import math\n",
        "from keras.preprocessing.image import  ImageDataGenerator\n",
        "\n"
      ],
      "execution_count": 1,
      "outputs": [
        {
          "output_type": "stream",
          "text": [
            "Using TensorFlow backend.\n"
          ],
          "name": "stderr"
        }
      ]
    },
    {
      "metadata": {
        "id": "0zrZNcohambq",
        "colab_type": "text"
      },
      "cell_type": "markdown",
      "source": [
        "## **Loading the Image Data**"
      ]
    },
    {
      "metadata": {
        "id": "kCXQLRWOBkSK",
        "colab_type": "code",
        "colab": {
          "base_uri": "https://localhost:8080/",
          "height": 51
        },
        "outputId": "99f79a94-805b-4f32-f04c-06cd52cf61d2"
      },
      "cell_type": "code",
      "source": [
        "# load data\n",
        "(x_train, y_train), (x_test, y_test) = cifar10.load_data()\n",
        "\n",
        "# backup of original label info for visualization purpose\n",
        "train_labels = np.array(np.squeeze(y_train))\n",
        "test_labels = np.array(np.squeeze(y_test))"
      ],
      "execution_count": 2,
      "outputs": [
        {
          "output_type": "stream",
          "text": [
            "Downloading data from https://www.cs.toronto.edu/~kriz/cifar-10-python.tar.gz\n",
            "170500096/170498071 [==============================] - 81s 0us/step\n"
          ],
          "name": "stdout"
        }
      ]
    },
    {
      "metadata": {
        "id": "hJjMbTX-a9pn",
        "colab_type": "text"
      },
      "cell_type": "markdown",
      "source": [
        "## **Variables and Hyper Parameters**"
      ]
    },
    {
      "metadata": {
        "id": "vW1KSsXbBqyo",
        "colab_type": "code",
        "colab": {}
      },
      "cell_type": "code",
      "source": [
        "# variables\n",
        "rows = 32\n",
        "cols = 32\n",
        "channels = 3\n",
        "num_classes = 10\n",
        "batchsize = 128\n",
        "k = 5;\n",
        "iterations = 5\n",
        "split_index = math.ceil(x_train.shape[0] * 0.8)"
      ],
      "execution_count": 0,
      "outputs": []
    },
    {
      "metadata": {
        "id": "42jiVwgvgORP",
        "colab_type": "text"
      },
      "cell_type": "markdown",
      "source": [
        "## **Utility Functions**"
      ]
    },
    {
      "metadata": {
        "id": "K2IfaZhegWe2",
        "colab_type": "code",
        "colab": {}
      },
      "cell_type": "code",
      "source": [
        "def getImageLabel(label_data):\n",
        "  class_names = ['airplane', 'automobile', 'bird', 'cat', 'deer', 'dog', 'frog', 'horse', 'ship', 'truck']\n",
        "  return class_names[label_data];"
      ],
      "execution_count": 0,
      "outputs": []
    },
    {
      "metadata": {
        "id": "Q5vIZe0HbLgO",
        "colab_type": "text"
      },
      "cell_type": "markdown",
      "source": [
        "## **Preparing the Image Data**"
      ]
    },
    {
      "metadata": {
        "id": "qqLvXv2ECF-V",
        "colab_type": "code",
        "colab": {}
      },
      "cell_type": "code",
      "source": [
        "# data reshaping based on tensorflow backend\n",
        "if K.image_data_format() == 'channels_first':\n",
        "    x_train = x_train.reshape(x_train.shape[0], channels, rows, cols)\n",
        "    x_test = x_test.reshape(x_test.shape[0], channels, rows, cols)\n",
        "    inputshape = (channels, rows, cols)\n",
        "else:\n",
        "    x_train = x_train.reshape(x_train.shape[0], rows, cols, channels)\n",
        "    x_test = x_test.reshape(x_test.shape[0], rows, cols, channels)\n",
        "    inputshape = (rows, cols, channels)\n",
        "    \n",
        "\n",
        "# data normalization\n",
        "x_train = x_train / 255;\n",
        "x_test = x_test / 255;\n",
        "\n",
        "\n",
        "# categorical of conversion of labels\n",
        "\n",
        "y_train = keras.utils.to_categorical(y_train, num_classes)\n",
        "y_test = keras.utils.to_categorical(y_test, num_classes)"
      ],
      "execution_count": 0,
      "outputs": []
    },
    {
      "metadata": {
        "id": "UIw6YEzmdFmV",
        "colab_type": "text"
      },
      "cell_type": "markdown",
      "source": [
        "## **Displaying Some Images of the Dataset**"
      ]
    },
    {
      "metadata": {
        "id": "4t3lS1HJdJzb",
        "colab_type": "code",
        "outputId": "4d546e0d-3227-488c-d5e2-277ea0c22b0e",
        "colab": {
          "base_uri": "https://localhost:8080/",
          "height": 599
        }
      },
      "cell_type": "code",
      "source": [
        "plt.figure(figsize=(9, 9))\n",
        "plt.suptitle(\"labels\")\n",
        "indices = np.random.choice(np.arange(x_train.shape[0]), size=25, replace=False)\n",
        "for index in np.arange(25):\n",
        "  plt.subplot(5, 5, index + 1)\n",
        "  plt.xticks([])\n",
        "  plt.yticks([])\n",
        "  plt.grid(False)\n",
        "  plt.imshow(x_train[index], cmap=plt.cm.binary)\n",
        "  plt.xlabel(getImageLabel(train_labels[index]))\n",
        "plt.show()"
      ],
      "execution_count": 6,
      "outputs": [
        {
          "output_type": "display_data",
          "data": {
            "image/png": "[encoded data removed]",
            "text/plain": [
              "<Figure size 648x648 with 25 Axes>"
            ]
          },
          "metadata": {
            "tags": []
          }
        }
      ]
    },
    {
      "metadata": {
        "id": "O4dEntxfb9W7",
        "colab_type": "text"
      },
      "cell_type": "markdown",
      "source": [
        "## **Models:**"
      ]
    },
    {
      "metadata": {
        "id": "a82va1bnbcp7",
        "colab_type": "text"
      },
      "cell_type": "markdown",
      "source": [
        "## **Preparation **"
      ]
    },
    {
      "metadata": {
        "id": "wc6xuZmNDBNo",
        "colab_type": "code",
        "colab": {}
      },
      "cell_type": "code",
      "source": [
        "# model\n",
        "\n",
        "def get_model_1():\n",
        "  model = Sequential()\n",
        "\n",
        "  model.add(Conv2D(32, kernel_size=(3, 3), activation='relu', input_shape=inputshape))\n",
        "  model.add(Conv2D(64, kernel_size=(3, 3), activation='relu'))\n",
        "  model.add(MaxPooling2D(pool_size=(2, 2)))\n",
        "  model.add(Dropout(0.25))\n",
        "\n",
        "  model.add(Conv2D(128, kernel_size=(3, 3), activation='relu'))\n",
        "  model.add(MaxPooling2D(pool_size=(2, 2)))\n",
        "  model.add(Conv2D(256, kernel_size=(3, 3), activation='relu'))\n",
        "  model.add(MaxPooling2D(pool_size=(2, 2)))\n",
        "  model.add(Dropout(0.25))\n",
        "\n",
        "  model.add(Flatten())\n",
        "  model.add(Dense(1024, activation='relu'))\n",
        "  model.add(Dropout(0.5))\n",
        "  model.add(Dense(num_classes, activation='softmax'))\n",
        "  return model"
      ],
      "execution_count": 0,
      "outputs": []
    },
    {
      "metadata": {
        "id": "mEatAwsbnIjN",
        "colab_type": "code",
        "colab": {}
      },
      "cell_type": "code",
      "source": [
        "def get_model_2():\n",
        "  model = Sequential()\n",
        "\n",
        "  model.add(Conv2D(32, kernel_size=(3, 3), activation='relu', input_shape=inputshape))\n",
        "  model.add(Conv2D(32, kernel_size=(3, 3), activation='relu'))\n",
        "  model.add(MaxPooling2D(pool_size=(2, 2)))\n",
        "  model.add(Dropout(0.25))\n",
        "\n",
        "  model.add(Conv2D(64, kernel_size=(3, 3), activation='relu', padding='same'))\n",
        "  model.add(Conv2D(64, kernel_size=(3, 3), activation='relu'))\n",
        "  model.add(MaxPooling2D(pool_size=(2, 2)))\n",
        "  model.add(Dropout(0.25))\n",
        "\n",
        "  model.add(Flatten())\n",
        "  model.add(Dense(512, activation='relu'))\n",
        "  model.add(Dropout(0.5))\n",
        "  model.add(Dense(num_classes, activation='softmax'))\n",
        "  \n",
        "  return model"
      ],
      "execution_count": 0,
      "outputs": []
    },
    {
      "metadata": {
        "id": "tIIdsteWnL1Z",
        "colab_type": "code",
        "colab": {}
      },
      "cell_type": "code",
      "source": [
        "def get_model_3():\n",
        "  model = Sequential()\n",
        "  \n",
        "\n",
        "  model.add(Conv2D(32, kernel_size=(3, 3), activation='relu', input_shape=inputshape))\n",
        "  model.add(BatchNormalization())\n",
        "  model.add(Conv2D(64, kernel_size=(3, 3), activation='relu'))\n",
        "  model.add(BatchNormalization())\n",
        "  model.add(MaxPooling2D(pool_size=(2, 2)))\n",
        "  model.add(Dropout(0.25))\n",
        "\n",
        "  model.add(Conv2D(128, kernel_size=(3, 3), activation='relu'))\n",
        "  model.add(BatchNormalization())\n",
        "  model.add(Conv2D(256, kernel_size=(3, 3), activation='relu'))\n",
        "  model.add(BatchNormalization())\n",
        "  model.add(MaxPooling2D(pool_size=(2, 2)))\n",
        "  model.add(Dropout(0.25))\n",
        "\n",
        "  model.add(Flatten())\n",
        "  model.add(Dense(1024, activation='relu'))\n",
        "  model.add(BatchNormalization())\n",
        "  model.add(Dropout(0.5))\n",
        "  model.add(Dense(num_classes, activation='softmax'))\n",
        "  return model"
      ],
      "execution_count": 0,
      "outputs": []
    },
    {
      "metadata": {
        "id": "hZLTrUrNnNAm",
        "colab_type": "code",
        "colab": {}
      },
      "cell_type": "code",
      "source": [
        "def get_model_4():\n",
        "  model = Sequential()\n",
        "\n",
        "  model.add(Conv2D(32, kernel_size=(3, 3), activation='relu', input_shape=inputshape))\n",
        "  model.add(BatchNormalization())\n",
        "  model.add(Conv2D(32, kernel_size=(3, 3), activation='relu'))\n",
        "  model.add(BatchNormalization())\n",
        "  model.add(MaxPooling2D(pool_size=(2, 2)))\n",
        "  model.add(Dropout(0.25))\n",
        "\n",
        "  model.add(Conv2D(64, kernel_size=(3, 3), activation='relu', padding='same'))\n",
        "  model.add(BatchNormalization())\n",
        "  model.add(Conv2D(64, kernel_size=(3, 3), activation='relu'))\n",
        "  model.add(BatchNormalization())\n",
        "  model.add(MaxPooling2D(pool_size=(2, 2)))\n",
        "  model.add(Dropout(0.25))\n",
        "\n",
        "  model.add(Flatten())\n",
        "  model.add(Dense(512, activation='relu'))\n",
        "  model.add(BatchNormalization())\n",
        "  model.add(Dropout(0.5))\n",
        "  model.add(Dense(num_classes, activation='softmax'))\n",
        "  return model"
      ],
      "execution_count": 0,
      "outputs": []
    },
    {
      "metadata": {
        "id": "hPL3Mo6TnOLB",
        "colab_type": "code",
        "colab": {}
      },
      "cell_type": "code",
      "source": [
        "def get_model_5(): # best model achieved 92% accuracy when ran for 50 epochs\n",
        "  model = Sequential()\n",
        "\n",
        "  model.add(Conv2D(32, kernel_size=(3, 3), activation='relu', input_shape=inputshape))\n",
        "  model.add(BatchNormalization())\n",
        "  model.add(Conv2D(32, kernel_size=(3, 3), activation='relu', padding='same'))\n",
        "  model.add(BatchNormalization())\n",
        "  model.add(MaxPooling2D(pool_size=(2, 2)))\n",
        "  model.add(Dropout(0.25))\n",
        "\n",
        "  model.add(Conv2D(64, kernel_size=(3, 3), activation='relu', padding='same'))\n",
        "  model.add(BatchNormalization())\n",
        "  model.add(Conv2D(64, kernel_size=(3, 3), activation='relu', padding='same'))\n",
        "  model.add(BatchNormalization())\n",
        "  model.add(MaxPooling2D(pool_size=(2, 2)))\n",
        "  model.add(Dropout(0.25))\n",
        "  \n",
        "  model.add(Conv2D(128, kernel_size=(3, 3), activation='relu', padding='same'))\n",
        "  model.add(BatchNormalization())\n",
        "  model.add(Conv2D(128, kernel_size=(3, 3), activation='relu', padding='same'))\n",
        "  model.add(BatchNormalization())\n",
        "  model.add(MaxPooling2D(pool_size=(2, 2)))\n",
        "  model.add(Dropout(0.25))\n",
        "  \n",
        "  model.add(Conv2D(256, kernel_size=(3, 3), activation='relu', padding='same'))\n",
        "  model.add(BatchNormalization())\n",
        "  model.add(Conv2D(256, kernel_size=(3, 3), activation='relu',padding='same'))\n",
        "  model.add(BatchNormalization())\n",
        "  model.add(MaxPooling2D(pool_size=(2, 2)))\n",
        "  model.add(Dropout(0.25))\n",
        "  \n",
        "  \n",
        "  model.add(Conv2D(num_classes, kernel_size=(3, 3), padding='same'))\n",
        "  model.add(GlobalAveragePooling2D())\n",
        "  model.add(Activation('softmax'))\n",
        "  return model"
      ],
      "execution_count": 0,
      "outputs": []
    },
    {
      "metadata": {
        "id": "7tsKXpt_XJwr",
        "colab_type": "text"
      },
      "cell_type": "markdown",
      "source": [
        "## **Training Simple Hold Out Validation**"
      ]
    },
    {
      "metadata": {
        "id": "vrFD2jKhI7sb",
        "colab_type": "code",
        "colab": {}
      },
      "cell_type": "code",
      "source": [
        "def train_model_simple(base_model, model_id, x_train, y_train, x_test, y_test, batchsize, iterations, score_dict):\n",
        "  \n",
        "  train_x = x_train[:split_index]\n",
        "  train_y = y_train[:split_index]\n",
        "  val_x   = x_train[split_index: ]\n",
        "  val_y   = y_train[split_index: ]\n",
        "    \n",
        "  datagen = ImageDataGenerator(rotation_range=45,\n",
        "                               width_shift_range=0.1,\n",
        "                               height_shift_range=0.1,\n",
        "                               horizontal_flip=True,\n",
        "                               vertical_flip=False)\n",
        "  datagen.fit(train_x)\n",
        "  \n",
        "  optimizer_adam = keras.optimizers.adam(lr=0.001,decay=1e-6)\n",
        "  \n",
        "  model = base_model\n",
        "    \n",
        "  model.compile(optimizer=optimizer_adam, loss='categorical_crossentropy', metrics=['accuracy'])\n",
        "\n",
        "  early_stop = EarlyStopping('val_loss', patience=5)\n",
        "\n",
        "  reduce_lr = ReduceLROnPlateau('val_loss', factor=0.1, patience=3, verbose=1)\n",
        "\n",
        "  callbacks = [early_stop, reduce_lr]\n",
        "\n",
        "  train_epoch_steps = 40000 / batchsize\n",
        "\n",
        "  val_epoch_steps = 10000 / batchsize\n",
        "\n",
        "  model.fit_generator(datagen.flow(train_x, train_y, batch_size=batchsize),\n",
        "                      epochs=iterations,\n",
        "                      steps_per_epoch=train_epoch_steps,\n",
        "                      validation_steps=val_epoch_steps,\n",
        "                      validation_data=(val_x, val_y),\n",
        "                      callbacks=callbacks)\n",
        "  \n",
        "  scores = model.evaluate(x_test, y_test)\n",
        "  \n",
        "  score_dict[model_id] = [model, scores[1]]"
      ],
      "execution_count": 0,
      "outputs": []
    },
    {
      "metadata": {
        "id": "QKodulXRbpP1",
        "colab_type": "text"
      },
      "cell_type": "markdown",
      "source": [
        "## **Training with K fold Validation : K -> 5**"
      ]
    },
    {
      "metadata": {
        "id": "6IDxTI4FDlar",
        "colab_type": "code",
        "colab": {}
      },
      "cell_type": "code",
      "source": [
        "# Training the model\n",
        "\n",
        "def train_model_k_fold(base_model, x_train, y_train, x_test, y_test, batchsize, iterations):\n",
        "  k_fold_dict = {}\n",
        "\n",
        "  sum_of_accuracies = 0\n",
        "\n",
        "  for i in range(k):\n",
        "\n",
        "    x_train,y_train = shuffle(x_train, y_train)\n",
        "    x_train_fold = x_train[:split_index]\n",
        "    y_train_fold = y_train[:split_index]\n",
        "    x_val_fold   = x_train[split_index: ]\n",
        "    y_val_fold   = y_train[split_index: ]\n",
        "\n",
        "    \n",
        "    datagen = ImageDataGenerator(rotation_range=45,width_shift_range=0.1,height_shift_range=0.1,horizontal_flip=True,vertical_flip=False)\n",
        "    datagen.fit(x_train_fold)\n",
        "    \n",
        "    optimizer_adam = keras.optimizers.adam(lr=0.001,decay=1e-6)\n",
        "    \n",
        "    model = base_model\n",
        "    \n",
        "    model.compile(optimizer=optimizer_adam, loss='categorical_crossentropy', metrics=['accuracy'])\n",
        "    \n",
        "    early_stop = EarlyStopping('val_loss', patience=5)\n",
        "\n",
        "    reduce_lr = ReduceLROnPlateau('val_loss', factor=0.1, patience=3, verbose=1)\n",
        "    \n",
        "    callbacks = [early_stop, reduce_lr]\n",
        "    \n",
        "    train_epoch_steps = 40000 / batchsize\n",
        "\n",
        "    val_epoch_steps = 10000 / batchsize\n",
        "\n",
        "    model.fit_generator(datagen.flow(x_train, y_train, batch_size=batchsize),\n",
        "                        epochs=iterations,\n",
        "                        steps_per_epoch=train_epoch_steps,\n",
        "                        validation_steps=val_epoch_steps,\n",
        "                        validation_data=(x_val_fold, y_val_fold),\n",
        "                        callbacks=callbacks)\n",
        "\n",
        "    scores = model.evaluate(x_test, y_test)\n",
        "\n",
        "    sum_of_accuracies += scores[1]\n",
        "\n",
        "    k_fold_dict[i+1] = [model,scores[1]] # selecting the best model based on accuracy on test, we can also do this by loss as well.\n",
        "    \n",
        "  \n",
        "  \n",
        "  average_score = sum_of_accuracies / 5;\n",
        "\n",
        "  score_delta = 100 # some max number\n",
        "  final_model = 0\n",
        "  final_score = 0\n",
        "\n",
        "  for fold in k_fold_dict:\n",
        "    if(score_delta > abs(k_fold_dict[fold][1] - average_score)):\n",
        "      score_delta = abs(k_fold_dict[fold][1] - average_score)\n",
        "      final_model = k_fold_dict[fold][0]\n",
        "      final_model_score = k_fold_dict[fold][1]\n",
        "      \n",
        "  return final_model, final_model_score"
      ],
      "execution_count": 0,
      "outputs": []
    },
    {
      "metadata": {
        "id": "dIn4y_VrXXlc",
        "colab_type": "text"
      },
      "cell_type": "markdown",
      "source": [
        "## **Dictionary Data structure to store the results of 5 architectures**"
      ]
    },
    {
      "metadata": {
        "id": "MLvZczoPKVXu",
        "colab_type": "code",
        "colab": {}
      },
      "cell_type": "code",
      "source": [
        "score_dict = {}"
      ],
      "execution_count": 0,
      "outputs": []
    },
    {
      "metadata": {
        "id": "1jfRkXGxbws_",
        "colab_type": "text"
      },
      "cell_type": "markdown",
      "source": [
        "## **Training on Model 1**"
      ]
    },
    {
      "metadata": {
        "id": "wpJ9aWz_EOrm",
        "colab_type": "code",
        "outputId": "87e9c5e6-2c16-4bb8-bced-155b1e384fc0",
        "colab": {
          "base_uri": "https://localhost:8080/",
          "height": 377
        }
      },
      "cell_type": "code",
      "source": [
        "# Evaluate the model\n",
        "train_model_simple(get_model_1(),1,x_train,y_train,x_test,y_test,batchsize,iterations,score_dict)"
      ],
      "execution_count": 15,
      "outputs": [
        {
          "output_type": "stream",
          "text": [
            "WARNING:tensorflow:From /usr/local/lib/python3.6/dist-packages/tensorflow/python/framework/op_def_library.py:263: colocate_with (from tensorflow.python.framework.ops) is deprecated and will be removed in a future version.\n",
            "Instructions for updating:\n",
            "Colocations handled automatically by placer.\n",
            "WARNING:tensorflow:From /usr/local/lib/python3.6/dist-packages/keras/backend/tensorflow_backend.py:3445: calling dropout (from tensorflow.python.ops.nn_ops) with keep_prob is deprecated and will be removed in a future version.\n",
            "Instructions for updating:\n",
            "Please use `rate` instead of `keep_prob`. Rate should be set to `rate = 1 - keep_prob`.\n",
            "WARNING:tensorflow:From /usr/local/lib/python3.6/dist-packages/tensorflow/python/ops/math_ops.py:3066: to_int32 (from tensorflow.python.ops.math_ops) is deprecated and will be removed in a future version.\n",
            "Instructions for updating:\n",
            "Use tf.cast instead.\n",
            "Epoch 1/5\n",
            "313/312 [==============================] - 31s 99ms/step - loss: 1.8416 - acc: 0.3110 - val_loss: 1.4656 - val_acc: 0.4627\n",
            "Epoch 2/5\n",
            "313/312 [==============================] - 25s 79ms/step - loss: 1.5181 - acc: 0.4464 - val_loss: 1.2376 - val_acc: 0.5568\n",
            "Epoch 3/5\n",
            "313/312 [==============================] - 26s 83ms/step - loss: 1.3774 - acc: 0.5012 - val_loss: 1.1438 - val_acc: 0.5937\n",
            "Epoch 4/5\n",
            "313/312 [==============================] - 25s 79ms/step - loss: 1.2750 - acc: 0.5442 - val_loss: 1.0663 - val_acc: 0.6241\n",
            "Epoch 5/5\n",
            "313/312 [==============================] - 25s 79ms/step - loss: 1.2058 - acc: 0.5720 - val_loss: 1.1754 - val_acc: 0.5937\n",
            "10000/10000 [==============================] - 2s 150us/step\n"
          ],
          "name": "stdout"
        }
      ]
    },
    {
      "metadata": {
        "id": "h1adQF36XlEy",
        "colab_type": "text"
      },
      "cell_type": "markdown",
      "source": [
        "## **Training on Model 2**"
      ]
    },
    {
      "metadata": {
        "id": "ZdgxfABLnjhn",
        "colab_type": "code",
        "outputId": "def4cb76-b0b0-4ec3-89dd-7193b5af43be",
        "colab": {
          "base_uri": "https://localhost:8080/",
          "height": 204
        }
      },
      "cell_type": "code",
      "source": [
        "train_model_simple(get_model_2(),2,x_train,y_train,x_test,y_test,batchsize,iterations,score_dict)"
      ],
      "execution_count": 16,
      "outputs": [
        {
          "output_type": "stream",
          "text": [
            "Epoch 1/5\n",
            "313/312 [==============================] - 25s 81ms/step - loss: 1.8335 - acc: 0.3245 - val_loss: 1.5080 - val_acc: 0.4563\n",
            "Epoch 2/5\n",
            "313/312 [==============================] - 24s 76ms/step - loss: 1.5494 - acc: 0.4360 - val_loss: 1.3180 - val_acc: 0.5305\n",
            "Epoch 3/5\n",
            "313/312 [==============================] - 24s 77ms/step - loss: 1.4158 - acc: 0.4872 - val_loss: 1.2832 - val_acc: 0.5516\n",
            "Epoch 4/5\n",
            "313/312 [==============================] - 24s 76ms/step - loss: 1.3324 - acc: 0.5198 - val_loss: 1.1131 - val_acc: 0.6027\n",
            "Epoch 5/5\n",
            "313/312 [==============================] - 24s 78ms/step - loss: 1.2705 - acc: 0.5468 - val_loss: 1.0939 - val_acc: 0.6143\n",
            "10000/10000 [==============================] - 1s 146us/step\n"
          ],
          "name": "stdout"
        }
      ]
    },
    {
      "metadata": {
        "id": "Wubri2gSXnMH",
        "colab_type": "text"
      },
      "cell_type": "markdown",
      "source": [
        "## **Training on Model 3**"
      ]
    },
    {
      "metadata": {
        "id": "7V1SD6PPnvrk",
        "colab_type": "code",
        "outputId": "af899f85-49e3-4c45-dd94-c18715cb637e",
        "colab": {
          "base_uri": "https://localhost:8080/",
          "height": 204
        }
      },
      "cell_type": "code",
      "source": [
        "train_model_simple(get_model_3(),3,x_train,y_train,x_test,y_test,batchsize,iterations,score_dict)"
      ],
      "execution_count": 17,
      "outputs": [
        {
          "output_type": "stream",
          "text": [
            "Epoch 1/5\n",
            "313/312 [==============================] - 31s 100ms/step - loss: 1.9216 - acc: 0.3867 - val_loss: 2.1012 - val_acc: 0.3759\n",
            "Epoch 2/5\n",
            "313/312 [==============================] - 29s 92ms/step - loss: 1.4506 - acc: 0.5071 - val_loss: 1.6659 - val_acc: 0.4744\n",
            "Epoch 3/5\n",
            "313/312 [==============================] - 29s 93ms/step - loss: 1.2811 - acc: 0.5643 - val_loss: 1.1905 - val_acc: 0.5908\n",
            "Epoch 4/5\n",
            "313/312 [==============================] - 29s 92ms/step - loss: 1.1765 - acc: 0.5995 - val_loss: 1.2793 - val_acc: 0.5779\n",
            "Epoch 5/5\n",
            "313/312 [==============================] - 29s 93ms/step - loss: 1.1036 - acc: 0.6234 - val_loss: 1.4092 - val_acc: 0.5441\n",
            "10000/10000 [==============================] - 2s 222us/step\n"
          ],
          "name": "stdout"
        }
      ]
    },
    {
      "metadata": {
        "id": "WZID2n7NXpNU",
        "colab_type": "text"
      },
      "cell_type": "markdown",
      "source": [
        "## **Training on Model 4**"
      ]
    },
    {
      "metadata": {
        "id": "-wiAUKCQn1OP",
        "colab_type": "code",
        "outputId": "62a9e035-02ab-4592-ed11-b1450cec1822",
        "colab": {
          "base_uri": "https://localhost:8080/",
          "height": 204
        }
      },
      "cell_type": "code",
      "source": [
        "train_model_simple(get_model_4(),4,x_train,y_train,x_test,y_test,batchsize,iterations,score_dict)"
      ],
      "execution_count": 18,
      "outputs": [
        {
          "output_type": "stream",
          "text": [
            "Epoch 1/5\n",
            "313/312 [==============================] - 28s 91ms/step - loss: 1.9718 - acc: 0.3624 - val_loss: 1.5356 - val_acc: 0.4606\n",
            "Epoch 2/5\n",
            "313/312 [==============================] - 26s 82ms/step - loss: 1.4860 - acc: 0.4716 - val_loss: 1.3967 - val_acc: 0.5129\n",
            "Epoch 3/5\n",
            "313/312 [==============================] - 26s 84ms/step - loss: 1.3262 - acc: 0.5271 - val_loss: 1.3676 - val_acc: 0.5482\n",
            "Epoch 4/5\n",
            "313/312 [==============================] - 26s 83ms/step - loss: 1.2194 - acc: 0.5649 - val_loss: 1.4070 - val_acc: 0.5590\n",
            "Epoch 5/5\n",
            "313/312 [==============================] - 27s 85ms/step - loss: 1.1626 - acc: 0.5838 - val_loss: 1.2771 - val_acc: 0.5731\n",
            "10000/10000 [==============================] - 2s 178us/step\n"
          ],
          "name": "stdout"
        }
      ]
    },
    {
      "metadata": {
        "id": "nwgndt8NXrF8",
        "colab_type": "text"
      },
      "cell_type": "markdown",
      "source": [
        "## **Training on Model 5**"
      ]
    },
    {
      "metadata": {
        "id": "zi7UoJJ8n4ZD",
        "colab_type": "code",
        "outputId": "1bab73b1-46e8-4cee-9f0b-abfe02cb8bec",
        "colab": {
          "base_uri": "https://localhost:8080/",
          "height": 204
        }
      },
      "cell_type": "code",
      "source": [
        "train_model_simple(get_model_5(),5,x_train,y_train,x_test,y_test,batchsize,iterations,score_dict)"
      ],
      "execution_count": 19,
      "outputs": [
        {
          "output_type": "stream",
          "text": [
            "Epoch 1/5\n",
            "313/312 [==============================] - 35s 111ms/step - loss: 1.6339 - acc: 0.4073 - val_loss: 1.6157 - val_acc: 0.4754\n",
            "Epoch 2/5\n",
            "313/312 [==============================] - 29s 94ms/step - loss: 1.3158 - acc: 0.5247 - val_loss: 1.5444 - val_acc: 0.5045\n",
            "Epoch 3/5\n",
            "313/312 [==============================] - 31s 100ms/step - loss: 1.1685 - acc: 0.5833 - val_loss: 1.0384 - val_acc: 0.6385\n",
            "Epoch 4/5\n",
            "313/312 [==============================] - 29s 94ms/step - loss: 1.0741 - acc: 0.6188 - val_loss: 1.1604 - val_acc: 0.6151\n",
            "Epoch 5/5\n",
            "313/312 [==============================] - 29s 94ms/step - loss: 0.9958 - acc: 0.6478 - val_loss: 0.9710 - val_acc: 0.6717\n",
            "10000/10000 [==============================] - 2s 226us/step\n"
          ],
          "name": "stdout"
        }
      ]
    },
    {
      "metadata": {
        "id": "jGZMlm84XtK1",
        "colab_type": "text"
      },
      "cell_type": "markdown",
      "source": [
        "## **Finding the Best Model out of 5 models**"
      ]
    },
    {
      "metadata": {
        "id": "HuQ3Uv8uGqyl",
        "colab_type": "code",
        "outputId": "762ccc7e-9da7-47ae-b8b4-1554c2f28960",
        "colab": {
          "base_uri": "https://localhost:8080/",
          "height": 51
        }
      },
      "cell_type": "code",
      "source": [
        "\n",
        "best_model_id, best_model, best_score = 0,0,0\n",
        "\n",
        "for model_id in score_dict:\n",
        "  if(best_score < score_dict[model_id][1]):\n",
        "    best_model_id = model_id\n",
        "    best_score = score_dict[model_id][1]\n",
        "    best_model = score_dict[model_id][0]\n",
        "    \n",
        "\n",
        "print(\"Best Model :\", best_model_id)\n",
        "print(\"Score of the Model :\", best_score)\n",
        "\n",
        "  \n"
      ],
      "execution_count": 20,
      "outputs": [
        {
          "output_type": "stream",
          "text": [
            "Best Model : 5\n",
            "Score of the Model : 0.6676\n"
          ],
          "name": "stdout"
        }
      ]
    },
    {
      "metadata": {
        "id": "vo8K65iTX3Ii",
        "colab_type": "text"
      },
      "cell_type": "markdown",
      "source": [
        "## **Setting up best model for k fold validation**"
      ]
    },
    {
      "metadata": {
        "id": "Zu6vaom2oH3N",
        "colab_type": "code",
        "outputId": "54e51460-5ac6-410d-9c9d-a22015be3425",
        "colab": {
          "base_uri": "https://localhost:8080/",
          "height": 952
        }
      },
      "cell_type": "code",
      "source": [
        "k_fold_model = 0\n",
        "\n",
        "if(best_model_id == 1):\n",
        "  k_fold_model = get_model_1()\n",
        "elif(best_model_id == 2):\n",
        "  k_fold_model = get_model_2()\n",
        "elif(best_model_id == 3):\n",
        "  k_fold_model = get_model_3()\n",
        "elif(best_model_id == 4):\n",
        "  k_fold_model = get_model_4()\n",
        "elif(best_model_id == 5):\n",
        "  k_fold_model = get_model_5()\n",
        "  \n",
        "\n",
        "final_model, final_score = train_model_k_fold(k_fold_model, x_train, y_train, x_test, y_test, batchsize, iterations)"
      ],
      "execution_count": 21,
      "outputs": [
        {
          "output_type": "stream",
          "text": [
            "Epoch 1/5\n",
            "313/312 [==============================] - 35s 110ms/step - loss: 1.6305 - acc: 0.4066 - val_loss: 1.5205 - val_acc: 0.4904\n",
            "Epoch 2/5\n",
            "313/312 [==============================] - 29s 94ms/step - loss: 1.3237 - acc: 0.5226 - val_loss: 1.3728 - val_acc: 0.5446\n",
            "Epoch 3/5\n",
            "313/312 [==============================] - 29s 93ms/step - loss: 1.1743 - acc: 0.5810 - val_loss: 1.1512 - val_acc: 0.6031\n",
            "Epoch 4/5\n",
            "313/312 [==============================] - 30s 95ms/step - loss: 1.0831 - acc: 0.6163 - val_loss: 1.0571 - val_acc: 0.6299\n",
            "Epoch 5/5\n",
            "313/312 [==============================] - 29s 93ms/step - loss: 1.0122 - acc: 0.6431 - val_loss: 1.0008 - val_acc: 0.6538\n",
            "10000/10000 [==============================] - 2s 227us/step\n",
            "Epoch 1/5\n",
            "313/312 [==============================] - 34s 110ms/step - loss: 0.9838 - acc: 0.6551 - val_loss: 0.9354 - val_acc: 0.6887\n",
            "Epoch 2/5\n",
            "313/312 [==============================] - 29s 94ms/step - loss: 0.9188 - acc: 0.6777 - val_loss: 0.7958 - val_acc: 0.7253\n",
            "Epoch 3/5\n",
            "313/312 [==============================] - 29s 93ms/step - loss: 0.8862 - acc: 0.6911 - val_loss: 0.8425 - val_acc: 0.7076\n",
            "Epoch 4/5\n",
            "313/312 [==============================] - 30s 97ms/step - loss: 0.8550 - acc: 0.7028 - val_loss: 0.9037 - val_acc: 0.6959\n",
            "Epoch 5/5\n",
            "313/312 [==============================] - 29s 93ms/step - loss: 0.8158 - acc: 0.7143 - val_loss: 0.7239 - val_acc: 0.7457\n",
            "10000/10000 [==============================] - 2s 227us/step\n",
            "Epoch 1/5\n",
            "313/312 [==============================] - 35s 112ms/step - loss: 0.8009 - acc: 0.7193 - val_loss: 0.6637 - val_acc: 0.7728\n",
            "Epoch 2/5\n",
            "313/312 [==============================] - 29s 93ms/step - loss: 0.7726 - acc: 0.7293 - val_loss: 0.6520 - val_acc: 0.7749\n",
            "Epoch 3/5\n",
            "313/312 [==============================] - 31s 99ms/step - loss: 0.7566 - acc: 0.7377 - val_loss: 0.7094 - val_acc: 0.7571\n",
            "Epoch 4/5\n",
            "313/312 [==============================] - 29s 93ms/step - loss: 0.7374 - acc: 0.7422 - val_loss: 0.5732 - val_acc: 0.8005\n",
            "Epoch 5/5\n",
            "313/312 [==============================] - 31s 100ms/step - loss: 0.7268 - acc: 0.7471 - val_loss: 0.9591 - val_acc: 0.6800\n",
            "10000/10000 [==============================] - 2s 232us/step\n",
            "Epoch 1/5\n",
            "313/312 [==============================] - 34s 110ms/step - loss: 0.7159 - acc: 0.7522 - val_loss: 0.5589 - val_acc: 0.8097\n",
            "Epoch 2/5\n",
            "313/312 [==============================] - 29s 94ms/step - loss: 0.6948 - acc: 0.7564 - val_loss: 0.5536 - val_acc: 0.8140\n",
            "Epoch 3/5\n",
            "313/312 [==============================] - 31s 98ms/step - loss: 0.6791 - acc: 0.7662 - val_loss: 0.5149 - val_acc: 0.8205\n",
            "Epoch 4/5\n",
            "313/312 [==============================] - 29s 94ms/step - loss: 0.6655 - acc: 0.7688 - val_loss: 0.5478 - val_acc: 0.8174\n",
            "Epoch 5/5\n",
            "313/312 [==============================] - 31s 100ms/step - loss: 0.6569 - acc: 0.7724 - val_loss: 0.5665 - val_acc: 0.8076\n",
            "10000/10000 [==============================] - 2s 235us/step\n",
            "Epoch 1/5\n",
            "313/312 [==============================] - 34s 109ms/step - loss: 0.6574 - acc: 0.7720 - val_loss: 0.5976 - val_acc: 0.7912\n",
            "Epoch 2/5\n",
            "313/312 [==============================] - 29s 94ms/step - loss: 0.6375 - acc: 0.7784 - val_loss: 0.5471 - val_acc: 0.8124\n",
            "Epoch 3/5\n",
            "313/312 [==============================] - 30s 97ms/step - loss: 0.6317 - acc: 0.7795 - val_loss: 0.4910 - val_acc: 0.8294\n",
            "Epoch 4/5\n",
            "313/312 [==============================] - 29s 94ms/step - loss: 0.6229 - acc: 0.7827 - val_loss: 0.4571 - val_acc: 0.8418\n",
            "Epoch 5/5\n",
            "313/312 [==============================] - 31s 100ms/step - loss: 0.6170 - acc: 0.7858 - val_loss: 0.4584 - val_acc: 0.8411\n",
            "10000/10000 [==============================] - 2s 235us/step\n"
          ],
          "name": "stdout"
        }
      ]
    },
    {
      "metadata": {
        "id": "RiS2IgjMX-fC",
        "colab_type": "text"
      },
      "cell_type": "markdown",
      "source": [
        "## **Results of K fold validation**"
      ]
    },
    {
      "metadata": {
        "id": "ZyddfGY1WrPm",
        "colab_type": "code",
        "colab": {
          "base_uri": "https://localhost:8080/",
          "height": 51
        },
        "outputId": "a683f5f9-bc77-49d8-a872-047c01bc6c5f"
      },
      "cell_type": "code",
      "source": [
        "print(\"Best K fold Model :\", final_model)\n",
        "print(\"Score of the Model :\", final_score)"
      ],
      "execution_count": 22,
      "outputs": [
        {
          "output_type": "stream",
          "text": [
            "Best K fold Model : <keras.engine.sequential.Sequential object at 0x7f4acb6f4630>\n",
            "Score of the Model : 0.7401\n"
          ],
          "name": "stdout"
        }
      ]
    },
    {
      "metadata": {
        "id": "QeVNI8IUec2q",
        "colab_type": "text"
      },
      "cell_type": "markdown",
      "source": [
        "## **Confusion matrix**"
      ]
    },
    {
      "metadata": {
        "id": "HB4yqzAIYERD",
        "colab_type": "text"
      },
      "cell_type": "markdown",
      "source": [
        "## **Result of best model on Simple hold out validation**"
      ]
    },
    {
      "metadata": {
        "id": "VJegD2eKehNG",
        "colab_type": "code",
        "outputId": "4324513e-54b3-4d83-fc97-0d9a334af967",
        "colab": {
          "base_uri": "https://localhost:8080/",
          "height": 187
        }
      },
      "cell_type": "code",
      "source": [
        "\n",
        "y_pred_test = np.argmax(best_model.predict(x_test), axis=1)\n",
        "cm = confusion_matrix(y_true=test_labels, y_pred=y_pred_test)\n",
        "print(cm)"
      ],
      "execution_count": 23,
      "outputs": [
        {
          "output_type": "stream",
          "text": [
            "[[781  52  14   1   8   2   4  25  37  76]\n",
            " [  6 917   0   0   0   1   3   2   2  69]\n",
            " [140  28 421  22  61  33 172  57  17  49]\n",
            " [ 36  47  31 307  63  98 215  62  50  91]\n",
            " [ 32   4  47  18 546   9 227  87   6  24]\n",
            " [ 21  22  32 130  48 468  72 122  26  59]\n",
            " [ 10  25  19  15   6   3 879   6  10  27]\n",
            " [ 16  10  12  10  38  19  30 815   1  49]\n",
            " [122  81   2   5   7   0   8   3 721  51]\n",
            " [ 21 133   2   1   2   0   6   7   7 821]]\n"
          ],
          "name": "stdout"
        }
      ]
    },
    {
      "metadata": {
        "id": "5F_CaXfie1is",
        "colab_type": "code",
        "outputId": "3f182112-b598-4f9d-f1bb-f9b9039c46d3",
        "colab": {
          "base_uri": "https://localhost:8080/",
          "height": 361
        }
      },
      "cell_type": "code",
      "source": [
        "plt.imshow(cm, interpolation=None, cmap=plt.cm.PiYG)\n",
        "# https://matplotlib.org/examples/color/colormaps_reference.html\n",
        "plt.grid(None)\n",
        "plt.colorbar()\n",
        "tick_marks = np.arange(10)\n",
        "plt.xticks(tick_marks, np.arange(10))\n",
        "plt.yticks(tick_marks, np.arange(10))\n",
        "plt.xlabel('predicted')\n",
        "plt.ylabel('true')\n",
        "plt.show()"
      ],
      "execution_count": 24,
      "outputs": [
        {
          "output_type": "display_data",
          "data": {
            "image/png": "[encoded data removed]",
            "text/plain": [
              "<Figure size 576x396 with 2 Axes>"
            ]
          },
          "metadata": {
            "tags": []
          }
        }
      ]
    },
    {
      "metadata": {
        "id": "uzTCXZyRYN9W",
        "colab_type": "text"
      },
      "cell_type": "markdown",
      "source": [
        "## **Result of the best model with K fold validation**"
      ]
    },
    {
      "metadata": {
        "id": "g_idQwp4Pa-i",
        "colab_type": "code",
        "outputId": "89437719-d4f6-448a-bcbe-04e44f7ac72c",
        "colab": {
          "base_uri": "https://localhost:8080/",
          "height": 187
        }
      },
      "cell_type": "code",
      "source": [
        "y_pred_test = np.argmax(final_model.predict(x_test), axis=1)\n",
        "cm = confusion_matrix(y_true=test_labels, y_pred=y_pred_test)\n",
        "print(cm)"
      ],
      "execution_count": 25,
      "outputs": [
        {
          "output_type": "stream",
          "text": [
            "[[850  25  21   4   4   0   3   8  56  29]\n",
            " [  3 958   0   0   0   1   0   1  11  26]\n",
            " [ 48  15 697  23  58  23  69  25  12  30]\n",
            " [ 35  15  45 598  49  59 101  35  30  33]\n",
            " [ 18   5  45  17 793   7  62  39   9   5]\n",
            " [ 10  14  31 132  37 643  47  49  12  25]\n",
            " [ 11   6   9  18  15   2 903   7  16  13]\n",
            " [ 24   6   6  10  34  15  12 872   1  20]\n",
            " [ 42  33   0   1   1   1   2   0 890  30]\n",
            " [ 33  66   3   1   0   0   2   5   9 881]]\n"
          ],
          "name": "stdout"
        }
      ]
    },
    {
      "metadata": {
        "id": "qMxSlD_2Pcj-",
        "colab_type": "code",
        "outputId": "72c29e02-7426-48cf-bdb8-b604bf7b2d70",
        "colab": {
          "base_uri": "https://localhost:8080/",
          "height": 361
        }
      },
      "cell_type": "code",
      "source": [
        "plt.imshow(cm, interpolation=None, cmap=plt.cm.PiYG)\n",
        "# https://matplotlib.org/examples/color/colormaps_reference.html\n",
        "plt.grid(None)\n",
        "plt.colorbar()\n",
        "tick_marks = np.arange(10)\n",
        "plt.xticks(tick_marks, np.arange(10))\n",
        "plt.yticks(tick_marks, np.arange(10))\n",
        "plt.xlabel('predicted')\n",
        "plt.ylabel('true')\n",
        "plt.show()"
      ],
      "execution_count": 26,
      "outputs": [
        {
          "output_type": "display_data",
          "data": {
            "image/png": "[encoded data removed]",
            "text/plain": [
              "<Figure size 576x396 with 2 Axes>"
            ]
          },
          "metadata": {
            "tags": []
          }
        }
      ]
    }
  ]
}